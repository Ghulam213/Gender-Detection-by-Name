{
 "cells": [
  {
   "cell_type": "code",
   "execution_count": 1,
   "metadata": {},
   "outputs": [
    {
     "name": "stderr",
     "output_type": "stream",
     "text": [
      "Using TensorFlow backend.\n"
     ]
    }
   ],
   "source": [
    "import numpy as np\n",
    "import pandas as pd\n",
    "from sklearn.model_selection import train_test_split\n",
    "from sklearn.metrics import confusion_matrix\n",
    "from keras.models import Sequential\n",
    "from keras.layers import Dense, Dropout, LSTM"
   ]
  },
  {
   "cell_type": "code",
   "execution_count": 2,
   "metadata": {},
   "outputs": [
    {
     "name": "stdout",
     "output_type": "stream",
     "text": [
      "(95025, 2)\n"
     ]
    },
    {
     "data": {
      "text/html": [
       "<div>\n",
       "<style scoped>\n",
       "    .dataframe tbody tr th:only-of-type {\n",
       "        vertical-align: middle;\n",
       "    }\n",
       "\n",
       "    .dataframe tbody tr th {\n",
       "        vertical-align: top;\n",
       "    }\n",
       "\n",
       "    .dataframe thead th {\n",
       "        text-align: right;\n",
       "    }\n",
       "</style>\n",
       "<table border=\"1\" class=\"dataframe\">\n",
       "  <thead>\n",
       "    <tr style=\"text-align: right;\">\n",
       "      <th></th>\n",
       "      <th>name</th>\n",
       "      <th>gender</th>\n",
       "    </tr>\n",
       "  </thead>\n",
       "  <tbody>\n",
       "    <tr>\n",
       "      <th>0</th>\n",
       "      <td>Aaban</td>\n",
       "      <td>M</td>\n",
       "    </tr>\n",
       "    <tr>\n",
       "      <th>1</th>\n",
       "      <td>Aabha</td>\n",
       "      <td>F</td>\n",
       "    </tr>\n",
       "    <tr>\n",
       "      <th>2</th>\n",
       "      <td>Aabid</td>\n",
       "      <td>M</td>\n",
       "    </tr>\n",
       "    <tr>\n",
       "      <th>3</th>\n",
       "      <td>Aabriella</td>\n",
       "      <td>F</td>\n",
       "    </tr>\n",
       "    <tr>\n",
       "      <th>4</th>\n",
       "      <td>Aada</td>\n",
       "      <td>F</td>\n",
       "    </tr>\n",
       "  </tbody>\n",
       "</table>\n",
       "</div>"
      ],
      "text/plain": [
       "        name gender\n",
       "0      Aaban      M\n",
       "1      Aabha      F\n",
       "2      Aabid      M\n",
       "3  Aabriella      F\n",
       "4       Aada      F"
      ]
     },
     "execution_count": 2,
     "metadata": {},
     "output_type": "execute_result"
    }
   ],
   "source": [
    "df = pd.read_excel('name_gender.xlsx')\n",
    "df = df.drop(\"probability\",axis = 1)\n",
    "print(df.shape)\n",
    "df.head()"
   ]
  },
  {
   "cell_type": "code",
   "execution_count": 3,
   "metadata": {},
   "outputs": [
    {
     "data": {
      "text/plain": [
       "name      False\n",
       "gender    False\n",
       "dtype: bool"
      ]
     },
     "execution_count": 3,
     "metadata": {},
     "output_type": "execute_result"
    }
   ],
   "source": [
    "df.isna().any()"
   ]
  },
  {
   "cell_type": "code",
   "execution_count": 4,
   "metadata": {},
   "outputs": [
    {
     "name": "stdout",
     "output_type": "stream",
     "text": [
      "(95024,)\n"
     ]
    }
   ],
   "source": [
    "df = df.drop(95024, axis = 0)\n",
    "names = df['name'].values\n",
    "gender = df[\"gender\"].values\n",
    "print(names.shape)"
   ]
  },
  {
   "cell_type": "code",
   "execution_count": 5,
   "metadata": {},
   "outputs": [
    {
     "name": "stdout",
     "output_type": "stream",
     "text": [
      "15\n"
     ]
    }
   ],
   "source": [
    "MAX_LEN=np.max([len(s) for s in names])\n",
    "print(MAX_LEN)"
   ]
  },
  {
   "cell_type": "code",
   "execution_count": 6,
   "metadata": {},
   "outputs": [],
   "source": [
    "vocab = {'a': 1,\n",
    " 'b': 2,\n",
    " 'c': 3,\n",
    " 'd': 4,\n",
    " 'e': 5,\n",
    " 'f': 6,\n",
    " 'g': 7,\n",
    " 'h': 8,\n",
    " 'i': 9,\n",
    " 'j': 10,\n",
    " 'k': 11,\n",
    " 'l': 12,\n",
    " 'm': 13,\n",
    " 'n': 14,\n",
    " 'o': 15,\n",
    " 'p': 16,\n",
    " 'q': 17,\n",
    " 'r': 18,\n",
    " 's': 19,\n",
    " 't': 20,\n",
    " 'u': 21,\n",
    " 'v': 22,\n",
    " 'w': 23,\n",
    " 'x': 24,\n",
    " 'y': 25,\n",
    " 'z': 26}"
   ]
  },
  {
   "cell_type": "code",
   "execution_count": 7,
   "metadata": {},
   "outputs": [],
   "source": [
    "def convertNameToVec(name,vocab):\n",
    "  vector=np.zeros((MAX_LEN,27))\n",
    "  for i in range(min(MAX_LEN,len(name))):\n",
    "    vec = np.zeros(27)\n",
    "    vec[vocab[name[i]]] = 1\n",
    "    vector[i,:] = vec\n",
    "  return vector"
   ]
  },
  {
   "cell_type": "code",
   "execution_count": 8,
   "metadata": {},
   "outputs": [
    {
     "data": {
      "text/plain": [
       "array([[0., 0., 0., 0., 0., 0., 0., 1., 0., 0., 0., 0., 0., 0., 0., 0.,\n",
       "        0., 0., 0., 0., 0., 0., 0., 0., 0., 0., 0.],\n",
       "       [0., 0., 0., 0., 0., 0., 0., 0., 1., 0., 0., 0., 0., 0., 0., 0.,\n",
       "        0., 0., 0., 0., 0., 0., 0., 0., 0., 0., 0.],\n",
       "       [0., 0., 0., 0., 0., 0., 0., 0., 0., 0., 0., 0., 0., 0., 0., 0.,\n",
       "        0., 0., 0., 0., 0., 1., 0., 0., 0., 0., 0.],\n",
       "       [0., 0., 0., 0., 0., 0., 0., 0., 0., 0., 0., 0., 1., 0., 0., 0.,\n",
       "        0., 0., 0., 0., 0., 0., 0., 0., 0., 0., 0.],\n",
       "       [0., 1., 0., 0., 0., 0., 0., 0., 0., 0., 0., 0., 0., 0., 0., 0.,\n",
       "        0., 0., 0., 0., 0., 0., 0., 0., 0., 0., 0.],\n",
       "       [0., 0., 0., 0., 0., 0., 0., 0., 0., 0., 0., 0., 0., 1., 0., 0.,\n",
       "        0., 0., 0., 0., 0., 0., 0., 0., 0., 0., 0.],\n",
       "       [0., 0., 0., 0., 0., 0., 0., 0., 0., 0., 0., 0., 0., 0., 0., 0.,\n",
       "        0., 0., 0., 0., 0., 0., 0., 0., 0., 0., 0.],\n",
       "       [0., 0., 0., 0., 0., 0., 0., 0., 0., 0., 0., 0., 0., 0., 0., 0.,\n",
       "        0., 0., 0., 0., 0., 0., 0., 0., 0., 0., 0.],\n",
       "       [0., 0., 0., 0., 0., 0., 0., 0., 0., 0., 0., 0., 0., 0., 0., 0.,\n",
       "        0., 0., 0., 0., 0., 0., 0., 0., 0., 0., 0.],\n",
       "       [0., 0., 0., 0., 0., 0., 0., 0., 0., 0., 0., 0., 0., 0., 0., 0.,\n",
       "        0., 0., 0., 0., 0., 0., 0., 0., 0., 0., 0.],\n",
       "       [0., 0., 0., 0., 0., 0., 0., 0., 0., 0., 0., 0., 0., 0., 0., 0.,\n",
       "        0., 0., 0., 0., 0., 0., 0., 0., 0., 0., 0.],\n",
       "       [0., 0., 0., 0., 0., 0., 0., 0., 0., 0., 0., 0., 0., 0., 0., 0.,\n",
       "        0., 0., 0., 0., 0., 0., 0., 0., 0., 0., 0.],\n",
       "       [0., 0., 0., 0., 0., 0., 0., 0., 0., 0., 0., 0., 0., 0., 0., 0.,\n",
       "        0., 0., 0., 0., 0., 0., 0., 0., 0., 0., 0.],\n",
       "       [0., 0., 0., 0., 0., 0., 0., 0., 0., 0., 0., 0., 0., 0., 0., 0.,\n",
       "        0., 0., 0., 0., 0., 0., 0., 0., 0., 0., 0.],\n",
       "       [0., 0., 0., 0., 0., 0., 0., 0., 0., 0., 0., 0., 0., 0., 0., 0.,\n",
       "        0., 0., 0., 0., 0., 0., 0., 0., 0., 0., 0.]])"
      ]
     },
     "execution_count": 8,
     "metadata": {},
     "output_type": "execute_result"
    }
   ],
   "source": [
    "convertNameToVec(\"Ghulam\".lower(),vocab)"
   ]
  },
  {
   "cell_type": "code",
   "execution_count": 9,
   "metadata": {},
   "outputs": [
    {
     "name": "stdout",
     "output_type": "stream",
     "text": [
      "(95024, 15, 27)\n"
     ]
    }
   ],
   "source": [
    "names=np.array([convertNameToVec(x.lower(),vocab) for x in names])\n",
    "print(names.shape)"
   ]
  },
  {
   "cell_type": "code",
   "execution_count": 10,
   "metadata": {},
   "outputs": [
    {
     "name": "stdout",
     "output_type": "stream",
     "text": [
      "{'F': 60303, 'M': 34721}\n",
      "{0: 60303, 1: 34721}\n"
     ]
    }
   ],
   "source": [
    "unique, counts = np.unique(gender, return_counts=True)\n",
    "gender_count = dict(zip(unique, counts))\n",
    "print(gender_count)\n",
    "\n",
    "gender = 1*(gender == \"M\")\n",
    "\n",
    "unique, counts = np.unique(gender, return_counts=True)\n",
    "gender_count = dict(zip(unique, counts))\n",
    "print(gender_count)"
   ]
  },
  {
   "cell_type": "code",
   "execution_count": 11,
   "metadata": {},
   "outputs": [
    {
     "data": {
      "text/plain": [
       "(95024,)"
      ]
     },
     "execution_count": 11,
     "metadata": {},
     "output_type": "execute_result"
    }
   ],
   "source": [
    "gender.shape"
   ]
  },
  {
   "cell_type": "code",
   "execution_count": 12,
   "metadata": {},
   "outputs": [],
   "source": [
    "X_train, X_test ,y_train ,y_test =train_test_split(names,gender,test_size=0.2,random_state=0)"
   ]
  },
  {
   "cell_type": "code",
   "execution_count": 13,
   "metadata": {},
   "outputs": [],
   "source": [
    "def LSTM_Model():\n",
    "    model=Sequential()\n",
    "    model.add(LSTM(27,input_shape= (15,27)))\n",
    "    model.add(Dense(14, activation='relu'))\n",
    "    model.add(Dropout(0.5))\n",
    "    model.add(Dense(1, activation='sigmoid'))\n",
    "    model.compile(loss='binary_crossentropy', optimizer=\"adam\", metrics=['accuracy'])\n",
    "    return model"
   ]
  },
  {
   "cell_type": "code",
   "execution_count": 15,
   "metadata": {
    "scrolled": true
   },
   "outputs": [
    {
     "name": "stdout",
     "output_type": "stream",
     "text": [
      "Model: \"sequential_2\"\n",
      "_________________________________________________________________\n",
      "Layer (type)                 Output Shape              Param #   \n",
      "=================================================================\n",
      "lstm_2 (LSTM)                (None, 27)                5940      \n",
      "_________________________________________________________________\n",
      "dense_3 (Dense)              (None, 14)                392       \n",
      "_________________________________________________________________\n",
      "dropout_2 (Dropout)          (None, 14)                0         \n",
      "_________________________________________________________________\n",
      "dense_4 (Dense)              (None, 1)                 15        \n",
      "=================================================================\n",
      "Total params: 6,347\n",
      "Trainable params: 6,347\n",
      "Non-trainable params: 0\n",
      "_________________________________________________________________\n"
     ]
    }
   ],
   "source": [
    "lstm_model = LSTM_Model()\n",
    "lstm_model.summary()"
   ]
  },
  {
   "cell_type": "code",
   "execution_count": 16,
   "metadata": {},
   "outputs": [
    {
     "name": "stdout",
     "output_type": "stream",
     "text": [
      "Epoch 1/100\n",
      "76019/76019 [==============================] - 7s 98us/step - loss: 0.5516 - accuracy: 0.7327 0s - l\n",
      "Epoch 2/100\n",
      "76019/76019 [==============================] - 7s 94us/step - loss: 0.4726 - accuracy: 0.7933\n",
      "Epoch 3/100\n",
      "76019/76019 [==============================] - 7s 96us/step - loss: 0.4390 - accuracy: 0.8124\n",
      "Epoch 4/100\n",
      "76019/76019 [==============================] - 7s 89us/step - loss: 0.4143 - accuracy: 0.8243\n",
      "Epoch 5/100\n",
      "76019/76019 [==============================] - 7s 92us/step - loss: 0.4010 - accuracy: 0.8311\n",
      "Epoch 6/100\n",
      "76019/76019 [==============================] - 7s 94us/step - loss: 0.3884 - accuracy: 0.8363\n",
      "Epoch 7/100\n",
      "76019/76019 [==============================] - 7s 91us/step - loss: 0.3809 - accuracy: 0.8412\n",
      "Epoch 8/100\n",
      "76019/76019 [==============================] - 7s 92us/step - loss: 0.3730 - accuracy: 0.8453\n",
      "Epoch 9/100\n",
      "76019/76019 [==============================] - 7s 93us/step - loss: 0.3646 - accuracy: 0.8479\n",
      "Epoch 10/100\n",
      "76019/76019 [==============================] - 7s 93us/step - loss: 0.3593 - accuracy: 0.8506\n",
      "Epoch 11/100\n",
      "76019/76019 [==============================] - 7s 97us/step - loss: 0.3556 - accuracy: 0.8524\n",
      "Epoch 12/100\n",
      "76019/76019 [==============================] - 7s 97us/step - loss: 0.3499 - accuracy: 0.8559\n",
      "Epoch 13/100\n",
      "76019/76019 [==============================] - 7s 93us/step - loss: 0.3459 - accuracy: 0.8572\n",
      "Epoch 14/100\n",
      "76019/76019 [==============================] - 7s 90us/step - loss: 0.3434 - accuracy: 0.8567\n",
      "Epoch 15/100\n",
      "76019/76019 [==============================] - 7s 93us/step - loss: 0.3393 - accuracy: 0.8608\n",
      "Epoch 16/100\n",
      "76019/76019 [==============================] - 7s 93us/step - loss: 0.3359 - accuracy: 0.8617\n",
      "Epoch 17/100\n",
      "76019/76019 [==============================] - 7s 92us/step - loss: 0.3328 - accuracy: 0.8629\n",
      "Epoch 18/100\n",
      "76019/76019 [==============================] - 7s 90us/step - loss: 0.3288 - accuracy: 0.8657\n",
      "Epoch 19/100\n",
      "76019/76019 [==============================] - 7s 91us/step - loss: 0.3272 - accuracy: 0.8665\n",
      "Epoch 20/100\n",
      "76019/76019 [==============================] - 7s 91us/step - loss: 0.3247 - accuracy: 0.8681\n",
      "Epoch 21/100\n",
      "76019/76019 [==============================] - 7s 94us/step - loss: 0.3213 - accuracy: 0.8677\n",
      "Epoch 22/100\n",
      "76019/76019 [==============================] - 7s 96us/step - loss: 0.3180 - accuracy: 0.8699\n",
      "Epoch 23/100\n",
      "76019/76019 [==============================] - 7s 97us/step - loss: 0.3175 - accuracy: 0.8712\n",
      "Epoch 24/100\n",
      "76019/76019 [==============================] - 8s 100us/step - loss: 0.3151 - accuracy: 0.8720\n",
      "Epoch 25/100\n",
      "76019/76019 [==============================] - 7s 96us/step - loss: 0.3121 - accuracy: 0.8727\n",
      "Epoch 26/100\n",
      "76019/76019 [==============================] - 8s 100us/step - loss: 0.3122 - accuracy: 0.8738\n",
      "Epoch 27/100\n",
      "76019/76019 [==============================] - 8s 99us/step - loss: 0.3093 - accuracy: 0.8749\n",
      "Epoch 28/100\n",
      "76019/76019 [==============================] - 7s 94us/step - loss: 0.3092 - accuracy: 0.8749\n",
      "Epoch 29/100\n",
      "76019/76019 [==============================] - 7s 96us/step - loss: 0.3074 - accuracy: 0.8754\n",
      "Epoch 30/100\n",
      "76019/76019 [==============================] - 7s 88us/step - loss: 0.3030 - accuracy: 0.8776\n",
      "Epoch 31/100\n",
      "76019/76019 [==============================] - 7s 93us/step - loss: 0.3030 - accuracy: 0.8776\n",
      "Epoch 32/100\n",
      "76019/76019 [==============================] - 7s 89us/step - loss: 0.3037 - accuracy: 0.8774\n",
      "Epoch 33/100\n",
      "76019/76019 [==============================] - 7s 94us/step - loss: 0.2985 - accuracy: 0.8794\n",
      "Epoch 34/100\n",
      "76019/76019 [==============================] - 7s 96us/step - loss: 0.2988 - accuracy: 0.8803\n",
      "Epoch 35/100\n",
      "76019/76019 [==============================] - 7s 94us/step - loss: 0.2974 - accuracy: 0.8804\n",
      "Epoch 36/100\n",
      "76019/76019 [==============================] - 7s 94us/step - loss: 0.2954 - accuracy: 0.8821\n",
      "Epoch 37/100\n",
      "76019/76019 [==============================] - 7s 93us/step - loss: 0.2952 - accuracy: 0.8823\n",
      "Epoch 38/100\n",
      "76019/76019 [==============================] - 7s 97us/step - loss: 0.2939 - accuracy: 0.8821\n",
      "Epoch 39/100\n",
      "76019/76019 [==============================] - 7s 93us/step - loss: 0.2923 - accuracy: 0.8833\n",
      "Epoch 40/100\n",
      "76019/76019 [==============================] - 7s 95us/step - loss: 0.2904 - accuracy: 0.8840\n",
      "Epoch 41/100\n",
      "76019/76019 [==============================] - 8s 99us/step - loss: 0.2901 - accuracy: 0.8848\n",
      "Epoch 42/100\n",
      "76019/76019 [==============================] - 7s 96us/step - loss: 0.2883 - accuracy: 0.8840\n",
      "Epoch 43/100\n",
      "76019/76019 [==============================] - 7s 96us/step - loss: 0.2869 - accuracy: 0.8857\n",
      "Epoch 44/100\n",
      "76019/76019 [==============================] - 7s 94us/step - loss: 0.2851 - accuracy: 0.8858\n",
      "Epoch 45/100\n",
      "76019/76019 [==============================] - 7s 92us/step - loss: 0.2863 - accuracy: 0.8864\n",
      "Epoch 46/100\n",
      "76019/76019 [==============================] - 7s 92us/step - loss: 0.2850 - accuracy: 0.8865\n",
      "Epoch 47/100\n",
      "76019/76019 [==============================] - 7s 92us/step - loss: 0.2840 - accuracy: 0.8880\n",
      "Epoch 48/100\n",
      "76019/76019 [==============================] - 7s 92us/step - loss: 0.2831 - accuracy: 0.8878\n",
      "Epoch 49/100\n",
      "76019/76019 [==============================] - 7s 92us/step - loss: 0.2826 - accuracy: 0.8869\n",
      "Epoch 50/100\n",
      "76019/76019 [==============================] - 7s 92us/step - loss: 0.2802 - accuracy: 0.8890\n",
      "Epoch 51/100\n",
      "76019/76019 [==============================] - 7s 92us/step - loss: 0.2803 - accuracy: 0.8887\n",
      "Epoch 52/100\n",
      "76019/76019 [==============================] - 7s 92us/step - loss: 0.2783 - accuracy: 0.8891\n",
      "Epoch 53/100\n",
      "76019/76019 [==============================] - 7s 98us/step - loss: 0.2777 - accuracy: 0.8888\n",
      "Epoch 54/100\n",
      "76019/76019 [==============================] - 8s 99us/step - loss: 0.2758 - accuracy: 0.8897\n",
      "Epoch 55/100\n",
      "76019/76019 [==============================] - 7s 93us/step - loss: 0.2742 - accuracy: 0.8909\n",
      "Epoch 56/100\n",
      "76019/76019 [==============================] - 7s 89us/step - loss: 0.2751 - accuracy: 0.8900\n",
      "Epoch 57/100\n",
      "76019/76019 [==============================] - 8s 101us/step - loss: 0.2742 - accuracy: 0.8914\n",
      "Epoch 58/100\n",
      "76019/76019 [==============================] - 7s 97us/step - loss: 0.2734 - accuracy: 0.8907\n",
      "Epoch 59/100\n",
      "76019/76019 [==============================] - 7s 95us/step - loss: 0.2726 - accuracy: 0.8915\n",
      "Epoch 60/100\n",
      "76019/76019 [==============================] - 7s 95us/step - loss: 0.2711 - accuracy: 0.8914\n",
      "Epoch 61/100\n",
      "76019/76019 [==============================] - 7s 95us/step - loss: 0.2706 - accuracy: 0.8926\n",
      "Epoch 62/100\n",
      "76019/76019 [==============================] - 7s 94us/step - loss: 0.2671 - accuracy: 0.8941\n",
      "Epoch 63/100\n",
      "76019/76019 [==============================] - 7s 97us/step - loss: 0.2698 - accuracy: 0.8930\n",
      "Epoch 64/100\n",
      "76019/76019 [==============================] - 7s 96us/step - loss: 0.2665 - accuracy: 0.8938\n",
      "Epoch 65/100\n",
      "76019/76019 [==============================] - 7s 96us/step - loss: 0.2674 - accuracy: 0.8941\n",
      "Epoch 66/100\n",
      "76019/76019 [==============================] - 7s 95us/step - loss: 0.2666 - accuracy: 0.8949\n",
      "Epoch 67/100\n",
      "76019/76019 [==============================] - 7s 96us/step - loss: 0.2648 - accuracy: 0.8950\n",
      "Epoch 68/100\n",
      "76019/76019 [==============================] - 7s 94us/step - loss: 0.2646 - accuracy: 0.8950\n",
      "Epoch 69/100\n",
      "76019/76019 [==============================] - 7s 96us/step - loss: 0.2649 - accuracy: 0.8941\n",
      "Epoch 70/100\n",
      "76019/76019 [==============================] - 7s 96us/step - loss: 0.2622 - accuracy: 0.8958\n",
      "Epoch 71/100\n",
      "76019/76019 [==============================] - 7s 96us/step - loss: 0.2626 - accuracy: 0.8957\n",
      "Epoch 72/100\n",
      "76019/76019 [==============================] - 7s 92us/step - loss: 0.2614 - accuracy: 0.8964\n",
      "Epoch 73/100\n",
      "76019/76019 [==============================] - 7s 92us/step - loss: 0.2613 - accuracy: 0.8964\n",
      "Epoch 74/100\n",
      "76019/76019 [==============================] - 7s 93us/step - loss: 0.2608 - accuracy: 0.8972\n",
      "Epoch 75/100\n",
      "76019/76019 [==============================] - 7s 97us/step - loss: 0.2596 - accuracy: 0.8977\n",
      "Epoch 76/100\n",
      "76019/76019 [==============================] - 7s 96us/step - loss: 0.2577 - accuracy: 0.8983\n",
      "Epoch 77/100\n"
     ]
    },
    {
     "name": "stdout",
     "output_type": "stream",
     "text": [
      "76019/76019 [==============================] - 7s 95us/step - loss: 0.2572 - accuracy: 0.8979\n",
      "Epoch 78/100\n",
      "76019/76019 [==============================] - 7s 94us/step - loss: 0.2547 - accuracy: 0.8986\n",
      "Epoch 79/100\n",
      "76019/76019 [==============================] - 7s 96us/step - loss: 0.2563 - accuracy: 0.8983\n",
      "Epoch 80/100\n",
      "76019/76019 [==============================] - 7s 95us/step - loss: 0.2555 - accuracy: 0.8993\n",
      "Epoch 81/100\n",
      "76019/76019 [==============================] - 7s 96us/step - loss: 0.2545 - accuracy: 0.8995\n",
      "Epoch 82/100\n",
      "76019/76019 [==============================] - 7s 94us/step - loss: 0.2545 - accuracy: 0.8993\n",
      "Epoch 83/100\n",
      "76019/76019 [==============================] - 7s 94us/step - loss: 0.2539 - accuracy: 0.8999\n",
      "Epoch 84/100\n",
      "76019/76019 [==============================] - 7s 90us/step - loss: 0.2541 - accuracy: 0.8993\n",
      "Epoch 85/100\n",
      "76019/76019 [==============================] - 7s 93us/step - loss: 0.2531 - accuracy: 0.9006\n",
      "Epoch 86/100\n",
      "76019/76019 [==============================] - 7s 94us/step - loss: 0.2500 - accuracy: 0.9015\n",
      "Epoch 87/100\n",
      "76019/76019 [==============================] - 7s 92us/step - loss: 0.2524 - accuracy: 0.9002\n",
      "Epoch 88/100\n",
      "76019/76019 [==============================] - 7s 92us/step - loss: 0.2507 - accuracy: 0.9016\n",
      "Epoch 89/100\n",
      "76019/76019 [==============================] - 7s 95us/step - loss: 0.2494 - accuracy: 0.9016\n",
      "Epoch 90/100\n",
      "76019/76019 [==============================] - 7s 93us/step - loss: 0.2486 - accuracy: 0.9023\n",
      "Epoch 91/100\n",
      "76019/76019 [==============================] - 7s 94us/step - loss: 0.2456 - accuracy: 0.9024\n",
      "Epoch 92/100\n",
      "76019/76019 [==============================] - 7s 92us/step - loss: 0.2472 - accuracy: 0.9016\n",
      "Epoch 93/100\n",
      "76019/76019 [==============================] - 7s 93us/step - loss: 0.2477 - accuracy: 0.9018\n",
      "Epoch 94/100\n",
      "76019/76019 [==============================] - 8s 100us/step - loss: 0.2461 - accuracy: 0.9033\n",
      "Epoch 95/100\n",
      "76019/76019 [==============================] - 7s 91us/step - loss: 0.2440 - accuracy: 0.9041\n",
      "Epoch 96/100\n",
      "76019/76019 [==============================] - 7s 93us/step - loss: 0.2457 - accuracy: 0.9030\n",
      "Epoch 97/100\n",
      "76019/76019 [==============================] - 7s 90us/step - loss: 0.2436 - accuracy: 0.9045\n",
      "Epoch 98/100\n",
      "76019/76019 [==============================] - 7s 96us/step - loss: 0.2431 - accuracy: 0.9038\n",
      "Epoch 99/100\n",
      "76019/76019 [==============================] - 7s 91us/step - loss: 0.2411 - accuracy: 0.9050\n",
      "Epoch 100/100\n",
      "76019/76019 [==============================] - 7s 94us/step - loss: 0.2417 - accuracy: 0.9035\n"
     ]
    },
    {
     "data": {
      "text/plain": [
       "<keras.callbacks.callbacks.History at 0x1d0f406fb70>"
      ]
     },
     "execution_count": 16,
     "metadata": {},
     "output_type": "execute_result"
    }
   ],
   "source": [
    "lstm_model.fit(X_train, y_train, epochs=100, batch_size=200)"
   ]
  },
  {
   "cell_type": "code",
   "execution_count": 17,
   "metadata": {},
   "outputs": [
    {
     "name": "stdout",
     "output_type": "stream",
     "text": [
      "19005/19005 [==============================] - 2s 128us/step\n",
      "Accuracy: 89.18\n"
     ]
    }
   ],
   "source": [
    "_, accuracy = lstm_model.evaluate(X_test, y_test)\n",
    "print('Accuracy: %.2f' % (accuracy*100))"
   ]
  },
  {
   "cell_type": "code",
   "execution_count": 19,
   "metadata": {},
   "outputs": [
    {
     "name": "stdout",
     "output_type": "stream",
     "text": [
      "Predicted test values:\n",
      " {0: 12302, 1: 6703}\n",
      "Original test values:\n",
      " {0: 12001, 1: 7004}\n"
     ]
    }
   ],
   "source": [
    "y_test_pred = lstm_model.predict(X_test)\n",
    "y_test_pred = [int(round(x[0],0)) for x in y_test_pred]\n",
    "\n",
    "unique, counts = np.unique(y_test_pred, return_counts=True)\n",
    "pred = dict(zip(unique, counts))\n",
    "print(\"Predicted test values:\\n\", pred)\n",
    "\n",
    "unique, counts = np.unique(y_test, return_counts=True)\n",
    "pred = dict(zip(unique, counts))\n",
    "print(\"Original test values:\\n\", pred)"
   ]
  },
  {
   "cell_type": "code",
   "execution_count": 20,
   "metadata": {},
   "outputs": [
    {
     "name": "stdout",
     "output_type": "stream",
     "text": [
      "[[11123   878]\n",
      " [ 1179  5825]]\n",
      "Testing Accuracy = 0.8917653249144962%\n"
     ]
    }
   ],
   "source": [
    "cm = confusion_matrix(y_test, y_test_pred)\n",
    "print(cm)\n",
    "print('Testing Accuracy = {}%'.format(  (cm[0][0] + cm[1][1]) / (cm[0][0] + cm[1][1] + cm[1][0] + cm[0][1])))"
   ]
  },
  {
   "cell_type": "code",
   "execution_count": 40,
   "metadata": {},
   "outputs": [],
   "source": [
    "def predictGender(name):\n",
    "    customNameVector=convertNameToVec(name.lower(),vocab)\n",
    "    # making input 3 dimensinal\n",
    "    customNameVector=customNameVector[np.newaxis,:,:]\n",
    "    pred = lstm_model.predict_proba(customNameVector)\n",
    "    if(pred[0]>0.5):\n",
    "        print('Male\\nwith {}% probability'.format(round(pred[0][0]*100,2)))\n",
    "    else:\n",
    "        print('Female\\nwith {}% probability'.format(round((1-pred[0][0])*100,2)))"
   ]
  },
  {
   "cell_type": "code",
   "execution_count": 29,
   "metadata": {},
   "outputs": [
    {
     "name": "stdout",
     "output_type": "stream",
     "text": [
      "Male\n",
      "with 91.79% probability\n"
     ]
    }
   ],
   "source": [
    "predictGender(\"Ghulam\")"
   ]
  },
  {
   "cell_type": "code",
   "execution_count": 30,
   "metadata": {},
   "outputs": [
    {
     "name": "stdout",
     "output_type": "stream",
     "text": [
      "Male\n",
      "with 99.38% probability\n"
     ]
    }
   ],
   "source": [
    "predictGender(\"Muhammad\")"
   ]
  },
  {
   "cell_type": "code",
   "execution_count": 41,
   "metadata": {},
   "outputs": [
    {
     "name": "stdout",
     "output_type": "stream",
     "text": [
      "Female\n",
      "with 95.38% probability\n"
     ]
    }
   ],
   "source": [
    "predictGender(\"Abagail\")"
   ]
  },
  {
   "cell_type": "code",
   "execution_count": 42,
   "metadata": {},
   "outputs": [
    {
     "name": "stdout",
     "output_type": "stream",
     "text": [
      "Male\n",
      "with 73.15% probability\n"
     ]
    }
   ],
   "source": [
    "predictGender(\"Hosea\")"
   ]
  },
  {
   "cell_type": "code",
   "execution_count": 45,
   "metadata": {},
   "outputs": [
    {
     "name": "stdout",
     "output_type": "stream",
     "text": [
      "Male\n",
      "with 84.48% probability\n"
     ]
    }
   ],
   "source": [
    "predictGender(\"Shumail\")"
   ]
  },
  {
   "cell_type": "code",
   "execution_count": 46,
   "metadata": {},
   "outputs": [
    {
     "name": "stdout",
     "output_type": "stream",
     "text": [
      "Female\n",
      "with 99.74% probability\n"
     ]
    }
   ],
   "source": [
    "predictGender(\"Shumaila\")"
   ]
  },
  {
   "cell_type": "code",
   "execution_count": 47,
   "metadata": {},
   "outputs": [
    {
     "name": "stdout",
     "output_type": "stream",
     "text": [
      "Male\n",
      "with 66.65% probability\n"
     ]
    }
   ],
   "source": [
    "predictGender(\"Alex\")"
   ]
  }
 ],
 "metadata": {
  "kernelspec": {
   "display_name": "Python 3",
   "language": "python",
   "name": "python3"
  },
  "language_info": {
   "codemirror_mode": {
    "name": "ipython",
    "version": 3
   },
   "file_extension": ".py",
   "mimetype": "text/x-python",
   "name": "python",
   "nbconvert_exporter": "python",
   "pygments_lexer": "ipython3",
   "version": "3.6.8"
  }
 },
 "nbformat": 4,
 "nbformat_minor": 4
}
